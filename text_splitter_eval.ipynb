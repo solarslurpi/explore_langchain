{
 "cells": [
  {
   "cell_type": "markdown",
   "metadata": {},
   "source": [
    "# Overview\n",
    "\n",
    "The goal of this notebook is to gain an intuitive feel for a few of Langchain's text splitters.\n",
    "Specifically...\n",
    "- Character Splitters\n",
    "    - `CharacterTextSplitter(TextSplitter)` [RTD](https://python.langchain.com/docs/modules/data_connection/document_transformers/text_splitters/character_text_splitter)  \n",
    " This is the simplest method. This splits based on characters (by default \"\\n\\n\") and measure chunk length by number of characters.\n",
    "    - `RecursiveCharacterTextSplitter(TextSplitter)` [RTD](https://python.langchain.com/docs/modules/data_connection/document_transformers/text_splitters/recursive_text_splitter)\n",
    "It starts by splitting at double newlines, then single newlines, then spaces, and finally, if necessary, character by character. This hierarchical approach ensures manageable chunks while retaining as much original structure as possible.\n",
    "- Sentence Splitters\n",
    "    - `NLTKTextSplitter(TextSplitter)` - uses NLTK's `sent_tokenizer` to split text into sentences.\n",
    "    - SpacyTextSplitter(TextSplitter) - uses it's libraries to also split text into sentences.  Before you use it, after `pip install spacy`, you need to `python -m spacy download en_core_web_sm`.\n",
    "\n",
    "All of these classes inherit from `TextSplitter()` and have default settings for chunk and overlap size [src](https://github.com/hwchase17/langchain/blob/dd648183fae95f5f251926e3a188d9ef9e6faeed/langchain/text_splitter.py#L38):\n",
    "```\n",
    "class TextSplitter(BaseDocumentTransformer, ABC):\n",
    "    \"\"\"Interface for splitting text into chunks.\"\"\"\n",
    "\n",
    "    def __init__(\n",
    "        self,\n",
    "        chunk_size: int = 4000,\n",
    "        chunk_overlap: int = 200,\n",
    "```\n"
   ]
  },
  {
   "cell_type": "markdown",
   "metadata": {},
   "source": [
    "# Character Splitters\n",
    "We'll start by exploring `CharacterTextSplitter` and `RecursiveCharacterTextSplitter` examples.\n",
    "\n",
    "This table provides a summary of six different configurations of text splitters: `CharacterTextSplitter` and `RecursiveCharacterTextSplitter` that are used in our exploration. Each configuration is represented by a row, detailing the text splitter's name, its abbreviated label, the chunk size (maximum characters per chunk), and the overlap size (shared characters between chunks). The chunk sizes vary from 100 to 4000 characters, and the overlap sizes are either 20 or 200 characters.The (perhaps naive) thought is these samples would be enough to gain an intuitive feel for how the text splitters work and ultimately the quality of the queries when each one is used."
   ]
  },
  {
   "cell_type": "code",
   "execution_count": 1,
   "metadata": {},
   "outputs": [
    {
     "data": {
      "text/markdown": [
       "| Text Splitter Name | Label | Chunk Size | Overlap Size |\n",
       "| --- | --- | --- | --- |\n",
       "| CharacterTextSplitter | C | 100 | 20 |\n",
       "| CharacterTextSplitter | C | 1000 | 200 |\n",
       "| CharacterTextSplitter | C | 4000 | 200 |\n",
       "| RecursiveCharacterTextSplitter | R | 100 | 20 |\n",
       "| RecursiveCharacterTextSplitter | R | 1000 | 200 |\n",
       "| RecursiveCharacterTextSplitter | R | 4000 | 200 |\n"
      ],
      "text/plain": [
       "<IPython.core.display.Markdown object>"
      ]
     },
     "metadata": {},
     "output_type": "display_data"
    }
   ],
   "source": [
    "from IPython.display import display, Markdown\n",
    "\n",
    "# Define the data for the table\n",
    "data = [\n",
    "    {'Text Splitter Name': 'CharacterTextSplitter', 'Label': 'C', 'Chunk Size': 100, 'Overlap Size': 20},\n",
    "    {'Text Splitter Name': 'CharacterTextSplitter', 'Label': 'C', 'Chunk Size': 1000, 'Overlap Size': 200},\n",
    "    {'Text Splitter Name': 'CharacterTextSplitter', 'Label': 'C', 'Chunk Size': 4000, 'Overlap Size': 200},\n",
    "    {'Text Splitter Name': 'RecursiveCharacterTextSplitter', 'Label': 'R', 'Chunk Size': 100, 'Overlap Size': 20},\n",
    "    {'Text Splitter Name': 'RecursiveCharacterTextSplitter', 'Label': 'R', 'Chunk Size': 1000, 'Overlap Size': 200},\n",
    "    {'Text Splitter Name': 'RecursiveCharacterTextSplitter', 'Label': 'R', 'Chunk Size': 4000, 'Overlap Size': 200}\n",
    "]\n",
    "\n",
    "# Create the markdown table\n",
    "table = \"| Text Splitter Name | Label | Chunk Size | Overlap Size |\\n| --- | --- | --- | --- |\\n\"\n",
    "for row in data:\n",
    "    table += f\"| {row['Text Splitter Name']} | {row['Label']} | {row['Chunk Size']} | {row['Overlap Size']} |\\n\"\n",
    "\n",
    "# Display the table\n",
    "display(Markdown(table))\n"
   ]
  }
 ],
 "metadata": {
  "kernelspec": {
   "display_name": ".venv",
   "language": "python",
   "name": "python3"
  },
  "language_info": {
   "codemirror_mode": {
    "name": "ipython",
    "version": 3
   },
   "file_extension": ".py",
   "mimetype": "text/x-python",
   "name": "python",
   "nbconvert_exporter": "python",
   "pygments_lexer": "ipython3",
   "version": "3.10.11"
  },
  "orig_nbformat": 4
 },
 "nbformat": 4,
 "nbformat_minor": 2
}
